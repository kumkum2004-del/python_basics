{
  "nbformat": 4,
  "nbformat_minor": 0,
  "metadata": {
    "colab": {
      "provenance": []
    },
    "kernelspec": {
      "name": "python3",
      "display_name": "Python 3"
    },
    "language_info": {
      "name": "python"
    }
  },
  "cells": [
    {
      "cell_type": "code",
      "execution_count": null,
      "metadata": {
        "id": "YDbj1V6mvJxx"
      },
      "outputs": [],
      "source": []
    },
    {
      "cell_type": "markdown",
      "source": [
        "# ques.1 What is Python, and why is it popular.\n",
        "   - Python is a high-level interpreted programming language.\n",
        "   - python is a popular language in industry because it is easy to use and its syntax is almost similar to english lanuage.Pyhton is platform independent and a versatile language.which can be used in wide range of applications.\n",
        "\n",
        "\n",
        "# ques.2 8 What is an interpreter in Python?\n",
        "   - An interpreter is what which is use to interpret the program.An interpreter in Python is a program that directly executes the Python code line by line without converting it into machine code.\n",
        "   - when you write the program,interpreter reads the code.\n",
        "\n",
        "\n",
        "# ques.3 What are pre-defined keywords in Python?\n",
        "   - predefined keywords in pyhton are those words which are reserved and have a specific meaning. They cannot be used as user-defined names. They are already a part of python syntax.\n",
        "\n",
        "\n",
        "# ques.4  Can keywords be used as variable names?\n",
        "   - No, keywords cannot be used as variable names as they have reserved meanings and they are predefined part of python syntax.\n",
        "\n",
        "\n",
        "# ques.5  What is mutability in Python?\n",
        "   - the term \"mutability\" refers to the ablity of an object to be modified after it created.\n",
        "   - modified>> add,remove,changability .\n",
        "\n",
        "\n",
        "# ques.6 Why are lists mutable, but tuples are immutable?\n",
        "   - Lists in python are mutable because we can modify them after they created.\n",
        "      - for ex:- adding,removing,and replacing an element.\n",
        "   - but in case of tuples,once they are created their content is fixed.we cannot change them.\n",
        "\n",
        "\n",
        "# ques.7 What is the difference between “==” and “is” operators in Python?\n",
        "   - both operators are used to check equality in python,but are used for differnet pupose.\n",
        "      - \"==\" operators will returns \"True\" when the values are equal even if they are stored in different memory location.\n",
        "      - but if the the values are stored in different memory loction even if they are equal it will return false.\n",
        "\n",
        "\n",
        "# ques.8 What are logical operators in Python?\n",
        "   -  Logical operators in Python are used to combine multiple conditional statements.\n",
        "-  They return either True or False based on the logical relationship between the conditions.\n",
        "- there are 3 logical operators in python:-\n",
        "       - 1> and operator\n",
        "       - 2> or operator\n",
        "       - 3> not operator\n",
        "\n",
        "\n",
        "# ques.9 What is type casting in Python ?\n",
        "   - changing the data from one data type to another data type is called as type casting in python.\n",
        "   - type casting are of 2 types which are implicit and explicit type casting.\n",
        "\n",
        "\n",
        "# ques.10 What is the difference between implicit and explicit type casting?\n",
        "   -  Implicit Type Casting\n",
        "      - Done automatically by Python.Happens when converting a smaller data type to a larger data type.\n",
        "   - explicit Type Casting\n",
        "      - Done manually by the programmer.Required when converting from a larger data type to a smaller one.\n",
        "\n",
        "\n",
        "# ques.11 What is the purpose of conditional statements in Python?\n",
        "   - To make decisions in a program.\n",
        "   - To execute different code blocks based on conditions.\n",
        "   - To control program flow.\n",
        "\n",
        "\n",
        "# ques.12 How does the elif statement work?\n",
        "   - elif statement is used when there exists more than two conditions.it executes when if block is not true.there can be multiple elif statement in a program.\n",
        "\n",
        "\n",
        "# ques.13 What is the difference between for and while loops?\n",
        "   - Both for and while loops are used for iteration, but they work differently:-\n",
        "       - for loop:-Used when the number of iterations is known.\n",
        "       - while loop:-Runs until a condition becomes False.\n",
        "\n",
        "\n",
        "# ques.14 Describe a scenario where a while loop is more suitable than a for loop?\n",
        "   - while loop is more suitable when the condition is given.while loop runs until the condition become false.\n",
        "   - for ex:- A timer\n",
        "   \n",
        "\n"
      ],
      "metadata": {
        "id": "IhOhzorUv7fo"
      }
    },
    {
      "cell_type": "code",
      "source": [
        "# 1. Write a Python program to print \"Hello, World!.\n",
        "print(\"Hello, World!\")"
      ],
      "metadata": {
        "colab": {
          "base_uri": "https://localhost:8080/"
        },
        "id": "8rpqQuliBrMS",
        "outputId": "942c4a55-4762-4690-d70f-68a02bbab22f"
      },
      "execution_count": 1,
      "outputs": [
        {
          "output_type": "stream",
          "name": "stdout",
          "text": [
            "Hello, World!\n"
          ]
        }
      ]
    },
    {
      "cell_type": "code",
      "source": [
        "# 2.Write a Python program that displays your name and age.\n",
        "name = \"Kumkum\"\n",
        "age = 50\n",
        "print(\"My name is \",name)\n",
        "print(\"My age is \",age)"
      ],
      "metadata": {
        "colab": {
          "base_uri": "https://localhost:8080/"
        },
        "id": "9GPk8pt0B_Xg",
        "outputId": "cad65ac3-2f33-4a03-b7ba-b688d4f6772c"
      },
      "execution_count": 2,
      "outputs": [
        {
          "output_type": "stream",
          "name": "stdout",
          "text": [
            "My name is  Kumkum\n",
            "My age is  50\n"
          ]
        }
      ]
    },
    {
      "cell_type": "code",
      "source": [
        "# 3.Write code to print all the pre-defined keywords in Python using the keyword library.\n",
        "help('keywords')"
      ],
      "metadata": {
        "colab": {
          "base_uri": "https://localhost:8080/"
        },
        "id": "9g5nvDVmCxYu",
        "outputId": "5c0f42e9-8761-4f7f-a427-e469c4e05c7b"
      },
      "execution_count": 3,
      "outputs": [
        {
          "output_type": "stream",
          "name": "stdout",
          "text": [
            "\n",
            "Here is a list of the Python keywords.  Enter any keyword to get more help.\n",
            "\n",
            "False               class               from                or\n",
            "None                continue            global              pass\n",
            "True                def                 if                  raise\n",
            "and                 del                 import              return\n",
            "as                  elif                in                  try\n",
            "assert              else                is                  while\n",
            "async               except              lambda              with\n",
            "await               finally             nonlocal            yield\n",
            "break               for                 not                 \n",
            "\n"
          ]
        }
      ]
    },
    {
      "cell_type": "code",
      "source": [
        "# 4.Write a program that checks if a given word is a Python keyword.\n",
        "import keyword\n",
        "word = input(\"enter a word  \")\n",
        "if keyword.iskeyword(word):\n",
        "  print(f\"{word}' is a keyword\")\n",
        "else:\n",
        "  print(f\"{word}'is not a python keyword\")\n"
      ],
      "metadata": {
        "colab": {
          "base_uri": "https://localhost:8080/"
        },
        "id": "vEYd0y5CDSwY",
        "outputId": "e7052bfe-1c0e-4b91-a63f-180e8d4ac8ff"
      },
      "execution_count": 5,
      "outputs": [
        {
          "output_type": "stream",
          "name": "stdout",
          "text": [
            "enter a word  kumkum\n",
            "kumkum'is not a python keyword\n"
          ]
        }
      ]
    },
    {
      "cell_type": "code",
      "source": [
        "# 5.Create a list and tuple in Python, and demonstrate how attempting to change an element works differently for each.\n",
        "lis = [1,2,3]\n",
        "lis[0] = \"apple\"\n",
        "lis"
      ],
      "metadata": {
        "colab": {
          "base_uri": "https://localhost:8080/"
        },
        "id": "uvdwFLLvFQn9",
        "outputId": "0b97022a-8a98-49b8-d697-64bcfc17b184"
      },
      "execution_count": 7,
      "outputs": [
        {
          "output_type": "execute_result",
          "data": {
            "text/plain": [
              "['apple', 2, 3]"
            ]
          },
          "metadata": {},
          "execution_count": 7
        }
      ]
    },
    {
      "cell_type": "code",
      "source": [
        "# throws an error\n",
        "t = (4,5,6)\n",
        "t[0] = \"liana\"\n",
        "t"
      ],
      "metadata": {
        "colab": {
          "base_uri": "https://localhost:8080/",
          "height": 176
        },
        "id": "z3LlL-v_FyIg",
        "outputId": "d73030d6-0415-4e49-df23-e8187a9e7dac"
      },
      "execution_count": 8,
      "outputs": [
        {
          "output_type": "error",
          "ename": "TypeError",
          "evalue": "'tuple' object does not support item assignment",
          "traceback": [
            "\u001b[0;31m---------------------------------------------------------------------------\u001b[0m",
            "\u001b[0;31mTypeError\u001b[0m                                 Traceback (most recent call last)",
            "\u001b[0;32m<ipython-input-8-60621f2d584b>\u001b[0m in \u001b[0;36m<cell line: 0>\u001b[0;34m()\u001b[0m\n\u001b[1;32m      1\u001b[0m \u001b[0mt\u001b[0m \u001b[0;34m=\u001b[0m \u001b[0;34m(\u001b[0m\u001b[0;36m4\u001b[0m\u001b[0;34m,\u001b[0m\u001b[0;36m5\u001b[0m\u001b[0;34m,\u001b[0m\u001b[0;36m6\u001b[0m\u001b[0;34m)\u001b[0m\u001b[0;34m\u001b[0m\u001b[0;34m\u001b[0m\u001b[0m\n\u001b[0;32m----> 2\u001b[0;31m \u001b[0mt\u001b[0m\u001b[0;34m[\u001b[0m\u001b[0;36m0\u001b[0m\u001b[0;34m]\u001b[0m \u001b[0;34m=\u001b[0m \u001b[0;34m\"liana\"\u001b[0m\u001b[0;34m\u001b[0m\u001b[0;34m\u001b[0m\u001b[0m\n\u001b[0m\u001b[1;32m      3\u001b[0m \u001b[0mt\u001b[0m\u001b[0;34m\u001b[0m\u001b[0;34m\u001b[0m\u001b[0m\n",
            "\u001b[0;31mTypeError\u001b[0m: 'tuple' object does not support item assignment"
          ]
        }
      ]
    },
    {
      "cell_type": "code",
      "source": [
        "# 6.Write a function to demonstrate the behavior of mutable and immutable arguments.\n",
        "tup = (1,2,3)\n",
        "l = [4,5,6]\n",
        "def demo(a,b):\n",
        "  a.append(7)\n",
        "  b.append(7)\n",
        "demo(tup,l)"
      ],
      "metadata": {
        "colab": {
          "base_uri": "https://localhost:8080/",
          "height": 297
        },
        "id": "kmK4tHgUGDOM",
        "outputId": "c48966d0-ee8a-4613-86e8-2b349ab65dcc"
      },
      "execution_count": 9,
      "outputs": [
        {
          "output_type": "error",
          "ename": "AttributeError",
          "evalue": "'tuple' object has no attribute 'append'",
          "traceback": [
            "\u001b[0;31m---------------------------------------------------------------------------\u001b[0m",
            "\u001b[0;31mAttributeError\u001b[0m                            Traceback (most recent call last)",
            "\u001b[0;32m<ipython-input-9-028cdb937ce1>\u001b[0m in \u001b[0;36m<cell line: 0>\u001b[0;34m()\u001b[0m\n\u001b[1;32m      5\u001b[0m   \u001b[0ma\u001b[0m\u001b[0;34m.\u001b[0m\u001b[0mappend\u001b[0m\u001b[0;34m(\u001b[0m\u001b[0;36m7\u001b[0m\u001b[0;34m)\u001b[0m\u001b[0;34m\u001b[0m\u001b[0;34m\u001b[0m\u001b[0m\n\u001b[1;32m      6\u001b[0m   \u001b[0mb\u001b[0m\u001b[0;34m.\u001b[0m\u001b[0mappend\u001b[0m\u001b[0;34m(\u001b[0m\u001b[0;36m7\u001b[0m\u001b[0;34m)\u001b[0m\u001b[0;34m\u001b[0m\u001b[0;34m\u001b[0m\u001b[0m\n\u001b[0;32m----> 7\u001b[0;31m \u001b[0mdemo\u001b[0m\u001b[0;34m(\u001b[0m\u001b[0mtup\u001b[0m\u001b[0;34m,\u001b[0m\u001b[0ml\u001b[0m\u001b[0;34m)\u001b[0m\u001b[0;34m\u001b[0m\u001b[0;34m\u001b[0m\u001b[0m\n\u001b[0m",
            "\u001b[0;32m<ipython-input-9-028cdb937ce1>\u001b[0m in \u001b[0;36mdemo\u001b[0;34m(a, b)\u001b[0m\n\u001b[1;32m      3\u001b[0m \u001b[0ml\u001b[0m \u001b[0;34m=\u001b[0m \u001b[0;34m[\u001b[0m\u001b[0;36m4\u001b[0m\u001b[0;34m,\u001b[0m\u001b[0;36m5\u001b[0m\u001b[0;34m,\u001b[0m\u001b[0;36m6\u001b[0m\u001b[0;34m]\u001b[0m\u001b[0;34m\u001b[0m\u001b[0;34m\u001b[0m\u001b[0m\n\u001b[1;32m      4\u001b[0m \u001b[0;32mdef\u001b[0m \u001b[0mdemo\u001b[0m\u001b[0;34m(\u001b[0m\u001b[0ma\u001b[0m\u001b[0;34m,\u001b[0m\u001b[0mb\u001b[0m\u001b[0;34m)\u001b[0m\u001b[0;34m:\u001b[0m\u001b[0;34m\u001b[0m\u001b[0;34m\u001b[0m\u001b[0m\n\u001b[0;32m----> 5\u001b[0;31m   \u001b[0ma\u001b[0m\u001b[0;34m.\u001b[0m\u001b[0mappend\u001b[0m\u001b[0;34m(\u001b[0m\u001b[0;36m7\u001b[0m\u001b[0;34m)\u001b[0m\u001b[0;34m\u001b[0m\u001b[0;34m\u001b[0m\u001b[0m\n\u001b[0m\u001b[1;32m      6\u001b[0m   \u001b[0mb\u001b[0m\u001b[0;34m.\u001b[0m\u001b[0mappend\u001b[0m\u001b[0;34m(\u001b[0m\u001b[0;36m7\u001b[0m\u001b[0;34m)\u001b[0m\u001b[0;34m\u001b[0m\u001b[0;34m\u001b[0m\u001b[0m\n\u001b[1;32m      7\u001b[0m \u001b[0mdemo\u001b[0m\u001b[0;34m(\u001b[0m\u001b[0mtup\u001b[0m\u001b[0;34m,\u001b[0m\u001b[0ml\u001b[0m\u001b[0;34m)\u001b[0m\u001b[0;34m\u001b[0m\u001b[0;34m\u001b[0m\u001b[0m\n",
            "\u001b[0;31mAttributeError\u001b[0m: 'tuple' object has no attribute 'append'"
          ]
        }
      ]
    },
    {
      "cell_type": "code",
      "source": [
        "# 7. Write a program that performs basic arithmetic operations on two user-input numbers.\n",
        "a = int(input(\"enter first no.\"))\n",
        "b = int(input(\"enter second no.\"))\n",
        "print(\"addition \",a + b)\n",
        "print(\"product \",a * b)\n",
        "print(\"division \",a / b)\n",
        "print(\"modulas \",a % b)\n",
        "print(\"subtraction \",a - b)\n",
        "print(\"exponantion \",a ** b)\n"
      ],
      "metadata": {
        "colab": {
          "base_uri": "https://localhost:8080/"
        },
        "id": "NsgHbeohJPFT",
        "outputId": "990e1c4a-0770-45b1-f3f7-b7118e6244ab"
      },
      "execution_count": 14,
      "outputs": [
        {
          "output_type": "stream",
          "name": "stdout",
          "text": [
            "enter first no.2\n",
            "enter second no.3\n",
            "addition  5\n",
            "product  6\n",
            "division  0.6666666666666666\n",
            "modulas  2\n",
            "subtraction  -1\n",
            "exponantion  8\n"
          ]
        }
      ]
    },
    {
      "cell_type": "code",
      "source": [
        "# 8.Write a program to demonstrate the use of logical operators.\n",
        "age = int(input(\"Enter your age: \"))\n",
        "is_student = True\n",
        "\n",
        "# Using 'and' operator\n",
        "if age >= 18 and age <= 25:\n",
        "    print(\"You are a young adult.\")\n",
        "\n",
        "# Using 'or' operator\n",
        "if age < 18 or is_student:\n",
        "\n",
        "    print(\"You are eligible for a student discount.\")\n",
        "\n",
        "# Using 'not' operator\n",
        "if not is_student:\n",
        "    print(\"You are not a student.\")\n",
        "\n"
      ],
      "metadata": {
        "colab": {
          "base_uri": "https://localhost:8080/"
        },
        "id": "FyF4hpKVLRG-",
        "outputId": "0a8976b8-6c09-48af-ea35-114c6a9a3920"
      },
      "execution_count": 17,
      "outputs": [
        {
          "output_type": "stream",
          "name": "stdout",
          "text": [
            "Enter your age: 20\n",
            "You are a young adult.\n",
            "You are eligible for a student discount.\n"
          ]
        }
      ]
    },
    {
      "cell_type": "code",
      "source": [
        "# 9. Write a Python program to convert user input from string to integer, float, and boolean types.\n",
        "user_inp = input(\"enter the value\")\n",
        "s = int(user_inp)\n",
        "f = float(user_inp)\n",
        "b = bool(user_inp)\n",
        "print(s)\n",
        "print(f)\n",
        "print(b)\n"
      ],
      "metadata": {
        "colab": {
          "base_uri": "https://localhost:8080/"
        },
        "id": "sDhfIKp2OvwZ",
        "outputId": "424bccca-6135-4d53-9240-216bdda79aa2"
      },
      "execution_count": 19,
      "outputs": [
        {
          "output_type": "stream",
          "name": "stdout",
          "text": [
            "enter the value56\n",
            "56\n",
            "56.0\n",
            "True\n"
          ]
        }
      ]
    },
    {
      "cell_type": "code",
      "source": [
        "# 10.Write code to demonstrate type casting with list elements.\n",
        "data = [\"10\", \"20\", \"30\", \"40\"]\n",
        "\n",
        "# Convert string elements to integers\n",
        "int_list = [int(x) for x in data]\n",
        "print(\"Integer List:\", int_list)"
      ],
      "metadata": {
        "colab": {
          "base_uri": "https://localhost:8080/"
        },
        "id": "0ffTOxjtP-Ko",
        "outputId": "f8020bf9-bd3d-465d-c419-16aa7f43ffb2"
      },
      "execution_count": 20,
      "outputs": [
        {
          "output_type": "stream",
          "name": "stdout",
          "text": [
            "Integer List: [10, 20, 30, 40]\n"
          ]
        }
      ]
    },
    {
      "cell_type": "code",
      "source": [
        "# 11.Write a program that checks if a number is positive, negative, or zero.\n",
        "num = int(input(\"enter the number \"))\n",
        "if num > 0:\n",
        "  print(\"number is positive\")\n",
        "elif num < 0:\n",
        "  print(\"number is negetive\")\n",
        "else:\n",
        "  print(\"number is zero\")"
      ],
      "metadata": {
        "colab": {
          "base_uri": "https://localhost:8080/"
        },
        "id": "KchnDx8NRjl_",
        "outputId": "cc49076d-41ab-4421-8e04-e84a358f8c53"
      },
      "execution_count": 21,
      "outputs": [
        {
          "output_type": "stream",
          "name": "stdout",
          "text": [
            "enter the number34\n",
            "number is positive\n"
          ]
        }
      ]
    },
    {
      "cell_type": "code",
      "source": [
        "# 12. Write a for loop to print numbers from 1 to 10.\n",
        "for i in range(1,11):\n",
        "  print(i)"
      ],
      "metadata": {
        "colab": {
          "base_uri": "https://localhost:8080/"
        },
        "id": "APOP9v-eSnU_",
        "outputId": "4273d0c9-16c3-4bf6-86a8-9546289a1c0b"
      },
      "execution_count": 23,
      "outputs": [
        {
          "output_type": "stream",
          "name": "stdout",
          "text": [
            "1\n",
            "2\n",
            "3\n",
            "4\n",
            "5\n",
            "6\n",
            "7\n",
            "8\n",
            "9\n",
            "10\n"
          ]
        }
      ]
    },
    {
      "cell_type": "code",
      "source": [
        "# 13.Write a Python program to find the sum of all even numbers between 1 and 50.\n",
        "sum = 0\n",
        "for i in range(1,51):\n",
        "  if i%2==0:\n",
        "    sum += i\n",
        "print(sum)\n"
      ],
      "metadata": {
        "colab": {
          "base_uri": "https://localhost:8080/"
        },
        "id": "K_3wwuqDS-Mw",
        "outputId": "05b774ce-3afa-4fc6-f9c7-1c6b0add4c39"
      },
      "execution_count": 24,
      "outputs": [
        {
          "output_type": "stream",
          "name": "stdout",
          "text": [
            "650\n"
          ]
        }
      ]
    },
    {
      "cell_type": "code",
      "source": [
        "# 14 Write a program to reverse a string using a while loop.\n",
        "s = \"airthmatic\"\n",
        "reversed_str = \"\"\n",
        "i = len(s)-1\n",
        "while i>=0:\n",
        "  reversed_str += s[i]\n",
        "  i -= 1\n",
        "print(reversed_str)"
      ],
      "metadata": {
        "colab": {
          "base_uri": "https://localhost:8080/"
        },
        "id": "PgCTS0-eTrzo",
        "outputId": "c015b3ee-7740-47e7-fec0-7b02ed0ee3ee"
      },
      "execution_count": 25,
      "outputs": [
        {
          "output_type": "stream",
          "name": "stdout",
          "text": [
            "citamhtria\n"
          ]
        }
      ]
    },
    {
      "cell_type": "code",
      "source": [
        "# 15.Write a Python program to calculate the factorial of a number provided by the user using a while loop.\n",
        "num = int(input(\"enter the number \"))\n",
        "fact = 1\n",
        "while num>0:\n",
        "  fact *= num\n",
        "  num-=1\n",
        "print(fact)\n",
        "\n"
      ],
      "metadata": {
        "colab": {
          "base_uri": "https://localhost:8080/"
        },
        "id": "4_h8dUmsVZnt",
        "outputId": "88e0038e-1a7e-4de4-fe50-c8cd24f4513b"
      },
      "execution_count": 27,
      "outputs": [
        {
          "output_type": "stream",
          "name": "stdout",
          "text": [
            "enter the number 4\n",
            "24\n"
          ]
        }
      ]
    }
  ]
}